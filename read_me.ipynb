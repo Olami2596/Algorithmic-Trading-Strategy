{
 "cells": [
  {
   "attachments": {},
   "cell_type": "markdown",
   "metadata": {},
   "source": [
    "### Algorithmic Trading Strategy"
   ]
  },
  {
   "attachments": {},
   "cell_type": "markdown",
   "metadata": {},
   "source": [
    "Trend-following trading strategy using 10 and 25 moving averages"
   ]
  },
  {
   "attachments": {},
   "cell_type": "markdown",
   "metadata": {},
   "source": [
    "What is Algorithmic Trading Strategy ?\n",
    "Algorithmic trading strategies are just trading strategies that are programmed in a computer language, like Python, to carry out trade orders. The trader programs these techniques to take trades more effectively and with little to no human involvement by using a computer's processing power.\n",
    "Back testing is a common method for validating trading strategies. Using historical data, you recreate trades that would have taken place had the strategy's set rules been followed.\n",
    "By doing so, you may gauge the success of your plan and utilize it as a springboard for further strategy optimization and improvement before implementing it in actual marketplaces.\n",
    "This largely relies on the underlying idea or conviction that any tactic that has been successful in the past would probably be successful in the future.\n",
    "Furthermore, any approach that has done poorly in the past is likely to continue to perform poorly in the future."
   ]
  },
  {
   "attachments": {},
   "cell_type": "markdown",
   "metadata": {},
   "source": [
    "Algorithmic Trading is when people use mathematical algorithms and predefined strategies to trade in the stock market. This way of trading is faster, more efficient and more consistent than manual trading. It’s like you’re playing a game where you need to make quick decisions, and a predefined strategy can help you make those decisions faster and better."
   ]
  },
  {
   "attachments": {},
   "cell_type": "markdown",
   "metadata": {},
   "source": [
    "A trading strategy was created by using the Trend-following trading strategy using 10 and 25 moving averages.\n",
    "The trend-following is strategy involves identifying the trend in the stock price and buying when the price is trending upward and selling when it is trending downward."
   ]
  },
  {
   "attachments": {},
   "cell_type": "markdown",
   "metadata": {},
   "source": [
    "The dataset below was collected by the yahoo finance API known as yfinance. Below are all the features in the dataset:\n",
    "\n",
    "Date\n",
    "Opening Price of the day\n",
    "Highest Price of the day\n",
    "Lowest Price of the day\n",
    "Closing Price of the day\n",
    "The total volume of the day\n",
    "Dividends of the day\n",
    "Stock Splits of the day\n",
    "This stock price data was used to create an algorithmic trading strategy with buying and selling signals."
   ]
  },
  {
   "cell_type": "markdown",
   "metadata": {},
   "source": []
  }
 ],
 "metadata": {
  "kernelspec": {
   "display_name": "Python 3",
   "language": "python",
   "name": "python3"
  },
  "language_info": {
   "name": "python",
   "version": "3.11.0 (main, Oct 24 2022, 18:26:48) [MSC v.1933 64 bit (AMD64)]"
  },
  "orig_nbformat": 4,
  "vscode": {
   "interpreter": {
    "hash": "108095e740c160118120ad5e22811b4aca9f414a6f3c55c969835bc2c10848d1"
   }
  }
 },
 "nbformat": 4,
 "nbformat_minor": 2
}
